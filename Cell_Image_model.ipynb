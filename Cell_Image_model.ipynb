{
  "nbformat": 4,
  "nbformat_minor": 0,
  "metadata": {
    "colab": {
      "provenance": []
    },
    "kernelspec": {
      "name": "python3",
      "display_name": "Python 3"
    },
    "language_info": {
      "name": "python"
    },
    "accelerator": "GPU",
    "gpuClass": "standard"
  },
  "cells": [
    {
      "cell_type": "code",
      "execution_count": 1,
      "metadata": {
        "id": "o6saWt5BHB2H"
      },
      "outputs": [],
      "source": [
        "import tensorflow as tf\n",
        "from tensorflow.keras import models, layers\n",
        "from tensorflow.keras.models import Sequential\n",
        "from tensorflow.keras.layers import Conv2D, MaxPool2D, Flatten, Dense, Dropout \n",
        "from tensorflow.keras.preprocessing.image import ImageDataGenerator\n",
        "from tensorflow.keras import initializers"
      ]
    },
    {
      "cell_type": "code",
      "source": [
        "import os\n",
        "import zipfile"
      ],
      "metadata": {
        "id": "Uv-30BQlHcpA"
      },
      "execution_count": 2,
      "outputs": []
    },
    {
      "cell_type": "code",
      "source": [
        "from sklearn.metrics import classification_report\n",
        "from sklearn.metrics import confusion_matrix"
      ],
      "metadata": {
        "colab": {
          "base_uri": "https://localhost:8080/"
        },
        "id": "anGXdtfV-gKv",
        "outputId": "65e647db-21c8-4b02-bed1-fb0e9ddfea9b"
      },
      "execution_count": 111,
      "outputs": [
        {
          "output_type": "stream",
          "name": "stdout",
          "text": [
            "              precision    recall  f1-score   support\n",
            "\n",
            "     class 1       0.50      0.49      0.49      1377\n",
            "     class 2       0.50      0.50      0.50      1377\n",
            "\n",
            "    accuracy                           0.50      2754\n",
            "   macro avg       0.50      0.50      0.50      2754\n",
            "weighted avg       0.50      0.50      0.50      2754\n",
            "\n"
          ]
        }
      ]
    },
    {
      "cell_type": "code",
      "source": [
        "local_zip = '/content/drive/MyDrive/Cell-Img-Data/eval.zip'\n",
        "zip_ref = zipfile.ZipFile(local_zip, 'r')\n",
        "zip_ref.extractall()"
      ],
      "metadata": {
        "id": "IwXbVJtzHZvt"
      },
      "execution_count": 3,
      "outputs": []
    },
    {
      "cell_type": "code",
      "source": [
        "local_zip = '/content/drive/MyDrive/Cell-Img-Data/train.zip'\n",
        "zip_ref = zipfile.ZipFile(local_zip, 'r')\n",
        "zip_ref.extractall()"
      ],
      "metadata": {
        "id": "VMDzgdk7HkvU"
      },
      "execution_count": 4,
      "outputs": []
    },
    {
      "cell_type": "code",
      "source": [
        "local_zip = '/content/drive/MyDrive/Cell-Img-Data/valid.zip'\n",
        "zip_ref = zipfile.ZipFile(local_zip, 'r')\n",
        "zip_ref.extractall()"
      ],
      "metadata": {
        "id": "nQwOFY_mHkx3"
      },
      "execution_count": 5,
      "outputs": []
    },
    {
      "cell_type": "code",
      "source": [
        "train_data_gen = ImageDataGenerator(rescale=1/255)\n",
        "validation_data_gen = ImageDataGenerator(rescale=1/255)\n",
        "\n",
        "train_gen = train_data_gen.flow_from_directory(\n",
        "    '/content/content/train',\n",
        "    target_size = (150,150),\n",
        "    batch_size = 64,\n",
        "    class_mode = 'binary'\n",
        ")\n",
        "\n",
        "val_gen = train_data_gen.flow_from_directory(\n",
        "    '/content/content/valid',\n",
        "    target_size = (150,150),\n",
        "    batch_size = 32,\n",
        "    class_mode = 'binary'\n",
        ")"
      ],
      "metadata": {
        "colab": {
          "base_uri": "https://localhost:8080/"
        },
        "id": "q7ZCDZwzHu2S",
        "outputId": "1fba81b6-5adf-43c1-84ed-a737c161ccb9"
      },
      "execution_count": 6,
      "outputs": [
        {
          "output_type": "stream",
          "name": "stdout",
          "text": [
            "Found 20670 images belonging to 2 classes.\n",
            "Found 4134 images belonging to 2 classes.\n"
          ]
        }
      ]
    },
    {
      "cell_type": "code",
      "source": [
        "initializer = tf.keras.initializers.GlorotUniform()"
      ],
      "metadata": {
        "id": "kpDtRhXLHIxc"
      },
      "execution_count": 7,
      "outputs": []
    },
    {
      "cell_type": "code",
      "source": [
        "model = Sequential()\n",
        "model.add(layers.Conv2D(input_shape=(150, 150, 3), filters=64,kernel_size=(9,9), padding=\"same\",activation='relu'))\n",
        "model.add(layers.MaxPooling2D((2, 2), strides=(2, 2)))\n",
        "model.add(layers.Conv2D(64, (6, 6), activation='relu', padding='same', name='block1_conv1'))\n",
        "model.add(layers.MaxPooling2D((2, 2), strides=(2, 2)))"
      ],
      "metadata": {
        "id": "6j5FcCuXHNBu"
      },
      "execution_count": 8,
      "outputs": []
    },
    {
      "cell_type": "code",
      "source": [
        "model.add(layers.Flatten())\n",
        "model.add(layers.Dense(256, activation='relu', kernel_initializer=initializer))\n",
        "model.add(Dropout(0.5))\n",
        "model.add(layers.Dense(128, activation='relu', kernel_initializer=initializer))\n",
        "\n",
        "layer = tf.keras.layers.Dense(1, kernel_initializer=initializer, activation='sigmoid')#The Glorot uniform initializer, also called Xavier uniform initializer.\n",
        "model.add(layer)"
      ],
      "metadata": {
        "id": "w4KWPyZdHOhs"
      },
      "execution_count": 9,
      "outputs": []
    },
    {
      "cell_type": "code",
      "source": [
        "model.summary()"
      ],
      "metadata": {
        "colab": {
          "base_uri": "https://localhost:8080/"
        },
        "id": "0xyDIQmNHQIB",
        "outputId": "ea3a3e67-7a46-4635-e33b-d553249db78b"
      },
      "execution_count": 10,
      "outputs": [
        {
          "output_type": "stream",
          "name": "stdout",
          "text": [
            "Model: \"sequential\"\n",
            "_________________________________________________________________\n",
            " Layer (type)                Output Shape              Param #   \n",
            "=================================================================\n",
            " conv2d (Conv2D)             (None, 150, 150, 64)      15616     \n",
            "                                                                 \n",
            " max_pooling2d (MaxPooling2D  (None, 75, 75, 64)       0         \n",
            " )                                                               \n",
            "                                                                 \n",
            " block1_conv1 (Conv2D)       (None, 75, 75, 64)        147520    \n",
            "                                                                 \n",
            " max_pooling2d_1 (MaxPooling  (None, 37, 37, 64)       0         \n",
            " 2D)                                                             \n",
            "                                                                 \n",
            " flatten (Flatten)           (None, 87616)             0         \n",
            "                                                                 \n",
            " dense (Dense)               (None, 256)               22429952  \n",
            "                                                                 \n",
            " dropout (Dropout)           (None, 256)               0         \n",
            "                                                                 \n",
            " dense_1 (Dense)             (None, 128)               32896     \n",
            "                                                                 \n",
            " dense_2 (Dense)             (None, 1)                 129       \n",
            "                                                                 \n",
            "=================================================================\n",
            "Total params: 22,626,113\n",
            "Trainable params: 22,626,113\n",
            "Non-trainable params: 0\n",
            "_________________________________________________________________\n"
          ]
        }
      ]
    },
    {
      "cell_type": "code",
      "source": [
        "from tensorflow.keras.optimizers import Adam\n",
        "model.compile(loss = 'binary_crossentropy',\n",
        "             optimizer = 'Adam',\n",
        "             metrics = ['accuracy'])"
      ],
      "metadata": {
        "id": "sEHWmE60HSAX"
      },
      "execution_count": 11,
      "outputs": []
    },
    {
      "cell_type": "code",
      "source": [
        "early_stopping=tf.keras.callbacks.EarlyStopping(monitor=\"val_accuracy\",\n",
        "                                                patience=5)"
      ],
      "metadata": {
        "id": "tfkeDeRgHVZD"
      },
      "execution_count": 12,
      "outputs": []
    },
    {
      "cell_type": "code",
      "source": [
        "model_fit = model.fit(train_gen,\n",
        "                      epochs = 20,\n",
        "                      verbose = 1,\n",
        "                      validation_data = val_gen,\n",
        "                      callbacks = early_stopping)"
      ],
      "metadata": {
        "colab": {
          "base_uri": "https://localhost:8080/"
        },
        "id": "eZzbeWS5HXVi",
        "outputId": "ff0f0011-6437-46ec-f2bb-c4a246d55f4e"
      },
      "execution_count": 13,
      "outputs": [
        {
          "output_type": "stream",
          "name": "stdout",
          "text": [
            "Epoch 1/20\n",
            "323/323 [==============================] - 56s 142ms/step - loss: 0.7194 - accuracy: 0.5826 - val_loss: 0.6688 - val_accuracy: 0.5965\n",
            "Epoch 2/20\n",
            "323/323 [==============================] - 44s 137ms/step - loss: 0.6253 - accuracy: 0.6524 - val_loss: 0.6356 - val_accuracy: 0.6505\n",
            "Epoch 3/20\n",
            "323/323 [==============================] - 44s 136ms/step - loss: 0.3938 - accuracy: 0.8226 - val_loss: 0.2068 - val_accuracy: 0.9352\n",
            "Epoch 4/20\n",
            "323/323 [==============================] - 44s 136ms/step - loss: 0.1758 - accuracy: 0.9404 - val_loss: 0.1848 - val_accuracy: 0.9398\n",
            "Epoch 5/20\n",
            "323/323 [==============================] - 44s 136ms/step - loss: 0.1387 - accuracy: 0.9552 - val_loss: 0.1697 - val_accuracy: 0.9378\n",
            "Epoch 6/20\n",
            "323/323 [==============================] - 44s 136ms/step - loss: 0.0986 - accuracy: 0.9674 - val_loss: 0.1948 - val_accuracy: 0.9335\n",
            "Epoch 7/20\n",
            "323/323 [==============================] - 44s 137ms/step - loss: 0.1085 - accuracy: 0.9670 - val_loss: 0.2201 - val_accuracy: 0.9340\n",
            "Epoch 8/20\n",
            "323/323 [==============================] - 46s 142ms/step - loss: 0.0522 - accuracy: 0.9825 - val_loss: 0.2681 - val_accuracy: 0.9386\n",
            "Epoch 9/20\n",
            "323/323 [==============================] - 49s 150ms/step - loss: 0.0401 - accuracy: 0.9876 - val_loss: 0.2884 - val_accuracy: 0.9381\n"
          ]
        }
      ]
    },
    {
      "cell_type": "code",
      "source": [
        "import matplotlib.pyplot as plt\n",
        "plt.plot(model_fit.history['accuracy'])\n",
        "plt.plot(model_fit.history['val_accuracy'])\n",
        "plt.title('model accuracy')\n",
        "plt.ylabel('accuracy')\n",
        "plt.xlabel('epoch')\n",
        "plt.legend(['train', 'test'], loc='upper left')\n",
        "plt.show()\n",
        "# summarize history for loss\n",
        "plt.plot(model_fit.history['loss'])\n",
        "plt.plot(model_fit.history['val_loss'])\n",
        "plt.title('model loss')\n",
        "plt.ylabel('loss')\n",
        "plt.xlabel('epoch')\n",
        "plt.legend(['train', 'test'], loc='upper left')\n",
        "plt.show()"
      ],
      "metadata": {
        "colab": {
          "base_uri": "https://localhost:8080/",
          "height": 573
        },
        "id": "3iyrmw44IzZb",
        "outputId": "604515f9-b0e0-40b5-d43b-29b9a9cc6bc5"
      },
      "execution_count": 14,
      "outputs": [
        {
          "output_type": "display_data",
          "data": {
            "text/plain": [
              "<Figure size 432x288 with 1 Axes>"
            ],
            "image/png": "[encoded data removed]"
          },
          "metadata": {
            "needs_background": "light"
          }
        },
        {
          "output_type": "display_data",
          "data": {
            "text/plain": [
              "<Figure size 432x288 with 1 Axes>"
            ],
            "image/png": "[encoded data removed]"
          },
          "metadata": {
            "needs_background": "light"
          }
        }
      ]
    },
    {
      "cell_type": "code",
      "source": [
        "eval_data_gen = ImageDataGenerator(rescale=1/255)\n",
        "\n",
        "eval_gen = eval_data_gen.flow_from_directory(\n",
        "    '/content/content/eval',\n",
        "    target_size = (150,150),\n",
        "    batch_size = 8,\n",
        "    class_mode = 'binary'\n",
        ")"
      ],
      "metadata": {
        "colab": {
          "base_uri": "https://localhost:8080/"
        },
        "id": "5A-iymhZ9hKK",
        "outputId": "7f2f22cf-b419-4066-8d93-24e42f2ff6bf"
      },
      "execution_count": 104,
      "outputs": [
        {
          "output_type": "stream",
          "name": "stdout",
          "text": [
            "Found 2754 images belonging to 2 classes.\n"
          ]
        }
      ]
    },
    {
      "cell_type": "code",
      "source": [
        "score = model.evaluate(eval_gen, verbose=0)"
      ],
      "metadata": {
        "id": "N7CAOr3U-IAB"
      },
      "execution_count": 124,
      "outputs": []
    },
    {
      "cell_type": "code",
      "source": [
        "print(\"Accuracy of evaluation data is \",score[1])"
      ],
      "metadata": {
        "colab": {
          "base_uri": "https://localhost:8080/"
        },
        "id": "xTsmbQqZIW9R",
        "outputId": "3ef08115-14d0-42a6-9425-87301ed5a80e"
      },
      "execution_count": 125,
      "outputs": [
        {
          "output_type": "stream",
          "name": "stdout",
          "text": [
            "Accuracy of evaluation data is  0.9270152449607849\n"
          ]
        }
      ]
    },
    {
      "cell_type": "code",
      "source": [
        "preds = model.predict(eval_gen)\n",
        "class_one = preds > 0.5"
      ],
      "metadata": {
        "colab": {
          "base_uri": "https://localhost:8080/"
        },
        "id": "PWcFRMsrHkfS",
        "outputId": "77115205-8cae-45f2-fb32-6dc20fb32ff9"
      },
      "execution_count": 121,
      "outputs": [
        {
          "output_type": "stream",
          "name": "stdout",
          "text": [
            "345/345 [==============================] - 4s 11ms/step\n"
          ]
        }
      ]
    },
    {
      "cell_type": "code",
      "source": [
        "print(classification_report(eval_gen.labels, class_one))"
      ],
      "metadata": {
        "colab": {
          "base_uri": "https://localhost:8080/"
        },
        "id": "Wbnyirh3HuIY",
        "outputId": "98614494-240e-40c9-cfc2-e9cc04a09df3"
      },
      "execution_count": 123,
      "outputs": [
        {
          "output_type": "stream",
          "name": "stdout",
          "text": [
            "              precision    recall  f1-score   support\n",
            "\n",
            "           0       0.50      0.50      0.50      1377\n",
            "           1       0.50      0.50      0.50      1377\n",
            "\n",
            "    accuracy                           0.50      2754\n",
            "   macro avg       0.50      0.50      0.50      2754\n",
            "weighted avg       0.50      0.50      0.50      2754\n",
            "\n"
          ]
        }
      ]
    },
    {
      "cell_type": "code",
      "source": [
        "print(confusion_matrix(eval_gen.labels, class_one))"
      ],
      "metadata": {
        "colab": {
          "base_uri": "https://localhost:8080/"
        },
        "id": "XeD9l9bwHoQ7",
        "outputId": "5407e49d-dc0f-4df1-c575-8081571e7857"
      },
      "execution_count": 122,
      "outputs": [
        {
          "output_type": "stream",
          "name": "stdout",
          "text": [
            "[[682 695]\n",
            " [682 695]]\n"
          ]
        }
      ]
    },
    {
      "cell_type": "markdown",
      "source": [
        "# Approach-2"
      ],
      "metadata": {
        "id": "_eI2pQSHJI1b"
      }
    },
    {
      "cell_type": "markdown",
      "source": [
        "**Batch size has been changed**"
      ],
      "metadata": {
        "id": "jQFMvJkAJdBb"
      }
    },
    {
      "cell_type": "code",
      "source": [
        "train_data_gen = ImageDataGenerator(rescale=1/255)\n",
        "validation_data_gen = ImageDataGenerator(rescale=1/255)\n",
        "\n",
        "train_gen = train_data_gen.flow_from_directory(\n",
        "    '/content/content/train',\n",
        "    target_size = (150,150),\n",
        "    batch_size = 32,\n",
        "    class_mode = 'binary'\n",
        ")\n",
        "\n",
        "val_gen = train_data_gen.flow_from_directory(\n",
        "    '/content/content/valid',\n",
        "    target_size = (150,150),\n",
        "    batch_size = 16,\n",
        "    class_mode = 'binary'\n",
        ")"
      ],
      "metadata": {
        "colab": {
          "base_uri": "https://localhost:8080/"
        },
        "id": "Bk4F2SebJIeB",
        "outputId": "91964a45-3143-4d57-eb86-70d47b896f75"
      },
      "execution_count": 126,
      "outputs": [
        {
          "output_type": "stream",
          "name": "stdout",
          "text": [
            "Found 20670 images belonging to 2 classes.\n",
            "Found 4134 images belonging to 2 classes.\n"
          ]
        }
      ]
    },
    {
      "cell_type": "code",
      "source": [
        "model3 = Sequential()\n",
        "model3.add(layers.Conv2D(input_shape=(150, 150, 3), filters=64,kernel_size=(3,3), padding=\"same\",activation='relu'))\n",
        "model3.add(layers.MaxPooling2D((2, 2), strides=(2, 2)))\n",
        "model3.add(layers.Conv2D(512, (6, 6), activation='relu', padding='same', name='block1_conv1'))\n",
        "model3.add(layers.MaxPooling2D((2, 2), strides=(2, 2)))\n",
        "model3.add(layers.Conv2D(256, (6, 6), activation='relu', padding='same', name='block1_conv2'))\n",
        "model3.add(layers.MaxPooling2D((2, 2), strides=(2, 2)))\n",
        "model3.add(layers.Conv2D(128, (6, 6), activation='relu', padding='same', name='block1_conv3'))\n",
        "model3.add(layers.MaxPooling2D((2, 2), strides=(2, 2)))\n",
        "model3.add(layers.Conv2D(64, (6, 6), activation='relu', padding='same', name='block1_conv4'))\n",
        "model3.add(layers.MaxPooling2D((2, 2), strides=(2, 2)))\n",
        "model3.add(layers.Conv2D(64, (6, 6), activation='relu', padding='same', name='block1_conv5'))\n",
        "model3.add(layers.MaxPooling2D((2, 2), strides=(2, 2)))"
      ],
      "metadata": {
        "id": "F5n6Pa3uJv89"
      },
      "execution_count": 127,
      "outputs": []
    },
    {
      "cell_type": "code",
      "source": [
        "model3.add(layers.Flatten())\n",
        "model3.add(layers.Dense(256, activation='relu'))\n",
        "model3.add(Dropout(0.5))\n",
        "model3.add(layers.Dense(128, activation='relu'))\n",
        "model3.add(layers.Dense(1, activation='sigmoid'))"
      ],
      "metadata": {
        "id": "gliK7p7UJy_h"
      },
      "execution_count": 128,
      "outputs": []
    },
    {
      "cell_type": "code",
      "source": [
        "model3.compile(loss = 'binary_crossentropy',\n",
        "             optimizer = 'Adam',\n",
        "             metrics = ['accuracy'])"
      ],
      "metadata": {
        "id": "NT25N7dYLL0Y"
      },
      "execution_count": 129,
      "outputs": []
    },
    {
      "cell_type": "code",
      "source": [
        "model3_fit = model3.fit(train_gen,\n",
        "                      epochs = 20,\n",
        "                      verbose = 1,\n",
        "                      validation_data = val_gen,\n",
        "                      callbacks = early_stopping)"
      ],
      "metadata": {
        "colab": {
          "base_uri": "https://localhost:8080/"
        },
        "id": "xbyGJg_hKJDF",
        "outputId": "03f6ee93-a93a-4ce9-b817-33999d248223"
      },
      "execution_count": 130,
      "outputs": [
        {
          "output_type": "stream",
          "name": "stdout",
          "text": [
            "Epoch 1/20\n",
            "646/646 [==============================] - 233s 351ms/step - loss: 0.2330 - accuracy: 0.9182 - val_loss: 0.2362 - val_accuracy: 0.8999\n",
            "Epoch 2/20\n",
            "646/646 [==============================] - 220s 340ms/step - loss: 0.1518 - accuracy: 0.9569 - val_loss: 0.1318 - val_accuracy: 0.9594\n",
            "Epoch 3/20\n",
            "646/646 [==============================] - 220s 340ms/step - loss: 0.1418 - accuracy: 0.9561 - val_loss: 0.1311 - val_accuracy: 0.9538\n",
            "Epoch 4/20\n",
            "646/646 [==============================] - 219s 340ms/step - loss: 0.1305 - accuracy: 0.9587 - val_loss: 0.1229 - val_accuracy: 0.9579\n",
            "Epoch 5/20\n",
            "646/646 [==============================] - 219s 339ms/step - loss: 0.1241 - accuracy: 0.9598 - val_loss: 0.1409 - val_accuracy: 0.9567\n",
            "Epoch 6/20\n",
            "646/646 [==============================] - 219s 339ms/step - loss: 0.1223 - accuracy: 0.9604 - val_loss: 0.1241 - val_accuracy: 0.9569\n",
            "Epoch 7/20\n",
            "646/646 [==============================] - 219s 340ms/step - loss: 0.1134 - accuracy: 0.9603 - val_loss: 0.1293 - val_accuracy: 0.9523\n"
          ]
        }
      ]
    },
    {
      "cell_type": "code",
      "source": [
        "import matplotlib.pyplot as plt\n",
        "plt.plot(model3_fit.history['accuracy'])\n",
        "plt.plot(model3_fit.history['val_accuracy'])\n",
        "plt.title('model accuracy')\n",
        "plt.ylabel('accuracy')\n",
        "plt.xlabel('epoch')\n",
        "plt.legend(['train', 'test'], loc='upper left')\n",
        "plt.show()\n",
        "# summarize history for loss\n",
        "plt.plot(model3_fit.history['loss'])\n",
        "plt.plot(model3_fit.history['val_loss'])\n",
        "plt.title('model loss')\n",
        "plt.ylabel('loss')\n",
        "plt.xlabel('epoch')\n",
        "plt.legend(['train', 'test'], loc='upper left')\n",
        "plt.show()"
      ],
      "metadata": {
        "colab": {
          "base_uri": "https://localhost:8080/",
          "height": 573
        },
        "id": "R1zEFEJ7QpKi",
        "outputId": "a4d5f3de-5d04-4e5b-d073-e353fab7dc0b"
      },
      "execution_count": 131,
      "outputs": [
        {
          "output_type": "display_data",
          "data": {
            "text/plain": [
              "<Figure size 432x288 with 1 Axes>"
            ],
            "image/png": "[encoded data removed]"
          },
          "metadata": {
            "needs_background": "light"
          }
        },
        {
          "output_type": "display_data",
          "data": {
            "text/plain": [
              "<Figure size 432x288 with 1 Axes>"
            ],
            "image/png": "[encoded data removed]"
          },
          "metadata": {
            "needs_background": "light"
          }
        }
      ]
    },
    {
      "cell_type": "code",
      "source": [
        "score = model3.evaluate(eval_gen, verbose=0)"
      ],
      "metadata": {
        "id": "5dx0BeXGI8DJ"
      },
      "execution_count": 132,
      "outputs": []
    },
    {
      "cell_type": "code",
      "source": [
        "print(\"Accuracy of evaluation data is \",score[1])"
      ],
      "metadata": {
        "colab": {
          "base_uri": "https://localhost:8080/"
        },
        "id": "cleh7PvSI-5J",
        "outputId": "6dfdd89d-f925-41bf-f2fe-1ad054482f0f"
      },
      "execution_count": 133,
      "outputs": [
        {
          "output_type": "stream",
          "name": "stdout",
          "text": [
            "Accuracy of evaluation data is  0.9408133625984192\n"
          ]
        }
      ]
    },
    {
      "cell_type": "code",
      "source": [
        "preds = model3.predict(eval_gen)\n",
        "class_one = preds > 0.5"
      ],
      "metadata": {
        "colab": {
          "base_uri": "https://localhost:8080/"
        },
        "id": "2Uwx5Z9HJBQt",
        "outputId": "97a3be6a-6a79-46c3-8a47-59f0b854916b"
      },
      "execution_count": 134,
      "outputs": [
        {
          "output_type": "stream",
          "name": "stdout",
          "text": [
            "345/345 [==============================] - 14s 40ms/step\n"
          ]
        }
      ]
    },
    {
      "cell_type": "code",
      "source": [
        "print(classification_report(eval_gen.labels, class_one))"
      ],
      "metadata": {
        "colab": {
          "base_uri": "https://localhost:8080/"
        },
        "id": "yy2Go-K4JCcy",
        "outputId": "fb50c4e1-2f2d-430e-d6bf-899951430eaf"
      },
      "execution_count": 135,
      "outputs": [
        {
          "output_type": "stream",
          "name": "stdout",
          "text": [
            "              precision    recall  f1-score   support\n",
            "\n",
            "           0       0.49      0.49      0.49      1377\n",
            "           1       0.49      0.49      0.49      1377\n",
            "\n",
            "    accuracy                           0.49      2754\n",
            "   macro avg       0.49      0.49      0.49      2754\n",
            "weighted avg       0.49      0.49      0.49      2754\n",
            "\n"
          ]
        }
      ]
    },
    {
      "cell_type": "code",
      "source": [
        "print(confusion_matrix(eval_gen.labels, class_one))"
      ],
      "metadata": {
        "colab": {
          "base_uri": "https://localhost:8080/"
        },
        "id": "bVOvF7fjJEWJ",
        "outputId": "57cb82d1-85ad-48f0-f8bd-614e3dabb6c8"
      },
      "execution_count": 136,
      "outputs": [
        {
          "output_type": "stream",
          "name": "stdout",
          "text": [
            "[[673 704]\n",
            " [697 680]]\n"
          ]
        }
      ]
    }
  ]
}